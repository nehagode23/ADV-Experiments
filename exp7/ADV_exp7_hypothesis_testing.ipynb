{
  "nbformat": 4,
  "nbformat_minor": 0,
  "metadata": {
    "colab": {
      "provenance": []
    },
    "kernelspec": {
      "name": "python3",
      "display_name": "Python 3"
    },
    "language_info": {
      "name": "python"
    }
  },
  "cells": [
    {
      "cell_type": "code",
      "execution_count": 5,
      "metadata": {
        "id": "_mHMczd-MDc7"
      },
      "outputs": [],
      "source": [
        "import pandas as pd\n",
        "from scipy.stats import pearsonr"
      ]
    },
    {
      "cell_type": "code",
      "source": [
        "# Load and clean data\n",
        "df = pd.read_csv(\"financial_data.csv\")\n",
        "df.columns = df.columns.str.strip().str.lower()  # Standardize column names"
      ],
      "metadata": {
        "id": "c_V2QWw_M-d4"
      },
      "execution_count": 6,
      "outputs": []
    },
    {
      "cell_type": "code",
      "source": [
        "# Clean 'sales' and 'profit' columns, coercing errors to NaN\n",
        "df['sales'] = pd.to_numeric(df['sales'].str.replace('[$,]', '', regex=True), errors='coerce')\n",
        "df['profit'] = pd.to_numeric(df['profit'].str.replace('[$,]', '', regex=True), errors='coerce')"
      ],
      "metadata": {
        "id": "pITIVV_pNAXt"
      },
      "execution_count": 7,
      "outputs": []
    },
    {
      "cell_type": "code",
      "source": [
        "# Handle NaN values (choose one of the following options)\n",
        "df['sales'].fillna(0, inplace=True)\n",
        "df['profit'].fillna(0, inplace=True)\n",
        "# OR drop rows with NaN\n",
        "# df.dropna(subset=['sales', 'profit'], inplace=True)"
      ],
      "metadata": {
        "colab": {
          "base_uri": "https://localhost:8080/"
        },
        "id": "phNaw2gQNB8x",
        "outputId": "d398aa7f-35c7-4d5f-9dac-afe1ce4c4050"
      },
      "execution_count": 8,
      "outputs": [
        {
          "output_type": "stream",
          "name": "stderr",
          "text": [
            "<ipython-input-8-263312409a8c>:2: FutureWarning: A value is trying to be set on a copy of a DataFrame or Series through chained assignment using an inplace method.\n",
            "The behavior will change in pandas 3.0. This inplace method will never work because the intermediate object on which we are setting values always behaves as a copy.\n",
            "\n",
            "For example, when doing 'df[col].method(value, inplace=True)', try using 'df.method({col: value}, inplace=True)' or df[col] = df[col].method(value) instead, to perform the operation inplace on the original object.\n",
            "\n",
            "\n",
            "  df['sales'].fillna(0, inplace=True)\n",
            "<ipython-input-8-263312409a8c>:3: FutureWarning: A value is trying to be set on a copy of a DataFrame or Series through chained assignment using an inplace method.\n",
            "The behavior will change in pandas 3.0. This inplace method will never work because the intermediate object on which we are setting values always behaves as a copy.\n",
            "\n",
            "For example, when doing 'df[col].method(value, inplace=True)', try using 'df.method({col: value}, inplace=True)' or df[col] = df[col].method(value) instead, to perform the operation inplace on the original object.\n",
            "\n",
            "\n",
            "  df['profit'].fillna(0, inplace=True)\n"
          ]
        }
      ]
    },
    {
      "cell_type": "code",
      "source": [
        "# Calculate Pearson correlation and p-value\n",
        "correlation, p_value = pearsonr(df['sales'], df['profit'])"
      ],
      "metadata": {
        "id": "XNwTRp7SNDv5"
      },
      "execution_count": 9,
      "outputs": []
    },
    {
      "cell_type": "code",
      "source": [
        "\n",
        "# Output results\n",
        "print(\"Pearson Correlation Coefficient:\", correlation)\n",
        "print(\"P-value:\", p_value)"
      ],
      "metadata": {
        "colab": {
          "base_uri": "https://localhost:8080/"
        },
        "id": "dAOQZD_ONFHk",
        "outputId": "f5a5f3a1-1911-4e3f-cc45-92c2b34e58e1"
      },
      "execution_count": 10,
      "outputs": [
        {
          "output_type": "stream",
          "name": "stdout",
          "text": [
            "Pearson Correlation Coefficient: 0.8313678786581095\n",
            "P-value: 2.955523839770789e-180\n"
          ]
        }
      ]
    },
    {
      "cell_type": "code",
      "source": [
        "\n",
        "# Interpretation\n",
        "alpha = 0.05  # significance level\n",
        "if p_value < alpha:\n",
        "    print(\"Reject the null hypothesis: Significant correlation.\")\n",
        "else:\n",
        "    print(\"Fail to reject the null hypothesis: No significant correlation.\")"
      ],
      "metadata": {
        "colab": {
          "base_uri": "https://localhost:8080/"
        },
        "id": "0_jfcuKVNG2W",
        "outputId": "05cfdb25-192d-481d-bc8a-e66528cfc3fc"
      },
      "execution_count": 11,
      "outputs": [
        {
          "output_type": "stream",
          "name": "stdout",
          "text": [
            "Reject the null hypothesis: Significant correlation.\n"
          ]
        }
      ]
    }
  ]
}